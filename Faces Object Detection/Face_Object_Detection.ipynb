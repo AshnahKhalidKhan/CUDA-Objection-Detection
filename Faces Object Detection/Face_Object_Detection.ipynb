{
  "nbformat": 4,
  "nbformat_minor": 0,
  "metadata": {
    "colab": {
      "provenance": [],
      "gpuType": "T4"
    },
    "kernelspec": {
      "name": "python3",
      "display_name": "Python 3"
    },
    "language_info": {
      "name": "python"
    },
    "accelerator": "GPU"
  },
  "cells": [
    {
      "cell_type": "code",
      "execution_count": 8,
      "metadata": {
        "colab": {
          "base_uri": "https://localhost:8080/"
        },
        "id": "Zt7f8t0cPVvA",
        "outputId": "3bf772dd-31e5-4baa-fb11-dbff9a9b4e08"
      },
      "outputs": [
        {
          "output_type": "stream",
          "name": "stdout",
          "text": [
            "Looking in indexes: https://pypi.org/simple, https://us-python.pkg.dev/colab-wheels/public/simple/\n",
            "Collecting pycuda\n",
            "  Using cached pycuda-2022.2.2.tar.gz (1.7 MB)\n",
            "  Installing build dependencies ... \u001b[?25l\u001b[?25hdone\n",
            "  Getting requirements to build wheel ... \u001b[?25l\u001b[?25hdone\n",
            "  Preparing metadata (pyproject.toml) ... \u001b[?25l\u001b[?25hdone\n",
            "Collecting pytools>=2011.2 (from pycuda)\n",
            "  Downloading pytools-2022.1.14.tar.gz (74 kB)\n",
            "\u001b[2K     \u001b[90m━━━━━━━━━━━━━━━━━━━━━━━━━━━━━━━━━━━━━━━━\u001b[0m \u001b[32m74.6/74.6 kB\u001b[0m \u001b[31m8.2 MB/s\u001b[0m eta \u001b[36m0:00:00\u001b[0m\n",
            "\u001b[?25h  Preparing metadata (setup.py) ... \u001b[?25l\u001b[?25hdone\n",
            "Requirement already satisfied: appdirs>=1.4.0 in /usr/local/lib/python3.10/dist-packages (from pycuda) (1.4.4)\n",
            "Collecting mako (from pycuda)\n",
            "  Downloading Mako-1.2.4-py3-none-any.whl (78 kB)\n",
            "\u001b[2K     \u001b[90m━━━━━━━━━━━━━━━━━━━━━━━━━━━━━━━━━━━━━━━━\u001b[0m \u001b[32m78.7/78.7 kB\u001b[0m \u001b[31m10.5 MB/s\u001b[0m eta \u001b[36m0:00:00\u001b[0m\n",
            "\u001b[?25hRequirement already satisfied: platformdirs>=2.2.0 in /usr/local/lib/python3.10/dist-packages (from pytools>=2011.2->pycuda) (3.3.0)\n",
            "Requirement already satisfied: typing_extensions>=4.0 in /usr/local/lib/python3.10/dist-packages (from pytools>=2011.2->pycuda) (4.5.0)\n",
            "Requirement already satisfied: MarkupSafe>=0.9.2 in /usr/local/lib/python3.10/dist-packages (from mako->pycuda) (2.1.2)\n",
            "Building wheels for collected packages: pycuda, pytools\n",
            "  Building wheel for pycuda (pyproject.toml) ... \u001b[?25l\u001b[?25hdone\n",
            "  Created wheel for pycuda: filename=pycuda-2022.2.2-cp310-cp310-linux_x86_64.whl size=661975 sha256=df6afb111a74423c8a592051351b4076ad0f498b01871ea06f09b06f8b74df09\n",
            "  Stored in directory: /root/.cache/pip/wheels/1d/7b/06/82a395a243fce00035dea9914d92bbef0013401497d849f8bc\n",
            "  Building wheel for pytools (setup.py) ... \u001b[?25l\u001b[?25hdone\n",
            "  Created wheel for pytools: filename=pytools-2022.1.14-py2.py3-none-any.whl size=69855 sha256=d5db967a1bdbbe3354a932065e01878c0efe4eeab85a355d08a5242524289f57\n",
            "  Stored in directory: /root/.cache/pip/wheels/19/02/16/aa2498ad7aa723a149ff7539f1918509661c0ae9d975b44b6d\n",
            "Successfully built pycuda pytools\n",
            "Installing collected packages: pytools, mako, pycuda\n",
            "Successfully installed mako-1.2.4 pycuda-2022.2.2 pytools-2022.1.14\n"
          ]
        }
      ],
      "source": [
        "# If you're running this on Google Colab like I am, do the following first:\n",
        "# Click Runtime > Change runtime type > Hardware Accelerator > GPU.\n",
        "# Then you MUST execute the following line of code or else the program won't work.\n",
        "\n",
        "!pip install pycuda"
      ]
    },
    {
      "cell_type": "code",
      "source": [
        "# We're importing these libraries for the following roles:\n",
        "# cv2 will help us use the Haar Cascade Classifiers\n",
        "# imageio will be used to save the image back to the device\n",
        "\n",
        "import cv2\n",
        "import imageio"
      ],
      "metadata": {
        "id": "IeZSwP5YPcjA"
      },
      "execution_count": 9,
      "outputs": []
    },
    {
      "cell_type": "code",
      "source": [
        "# Loading the image from our device\n",
        "# Replace the name of the image on which you want to detect your object here in this line\n",
        "# Make sure the file name ends with .jpg or .png or any other image file format!\n",
        "\n",
        "img = cv2.imread(\"/content/This_Is_Where_You_Put_Your_Image_Name.jpg\")"
      ],
      "metadata": {
        "id": "K8LcIJXwPjp8"
      },
      "execution_count": 12,
      "outputs": []
    },
    {
      "cell_type": "code",
      "source": [
        "# Converting the image into RGB format\n",
        "# NOTE: I'm still not quite sure why this is necessary, only that when I don't do it, the final image has weird colors\n",
        "\n",
        "img_rgb = cv2.cvtColor(img, cv2.COLOR_BGR2RGB)"
      ],
      "metadata": {
        "id": "huqWkEf4PmRg"
      },
      "execution_count": 13,
      "outputs": []
    },
    {
      "cell_type": "code",
      "source": [
        "# Converting the image into GRAYSCALE format\n",
        "# NOTE: I'm still not quite sure why this is necessary either, but I think it makes detection easier\n",
        "\n",
        "img_gray = cv2.cvtColor(img, cv2.COLOR_BGR2GRAY)"
      ],
      "metadata": {
        "id": "Z-ijW4fFThbB"
      },
      "execution_count": 14,
      "outputs": []
    },
    {
      "cell_type": "code",
      "source": [
        "# Loading the classifier used to detect the object\n",
        "# Replace the name of the XML file for whatever object you're detecting in this line\n",
        "\n",
        "face_classifier = cv2.CascadeClassifier('/content/haarcascade_frontalface_default.xml')"
      ],
      "metadata": {
        "id": "iVb6siS-RS1J"
      },
      "execution_count": 16,
      "outputs": []
    },
    {
      "cell_type": "code",
      "source": [
        "# Applying classifier on your GRAYSCALE image\n",
        "\n",
        "found = face_classifier.detectMultiScale(img_gray, 1.3, 5)"
      ],
      "metadata": {
        "id": "nToMP4BoRabJ"
      },
      "execution_count": 17,
      "outputs": []
    },
    {
      "cell_type": "code",
      "source": [
        "# Drawing a rectangle on the detected objects on RGB image\n",
        "\n",
        "for (x, y, width, height) in found:\n",
        "        cv2.rectangle(img_rgb, (x, y), (x + height, y + width), (0, 255, 0), 5)"
      ],
      "metadata": {
        "id": "g0jvLrNeRX0q"
      },
      "execution_count": 18,
      "outputs": []
    },
    {
      "cell_type": "code",
      "source": [
        "# Saving the output image with annotated detected objects\n",
        "\n",
        "imageio.imwrite('Output_Image_With_Face_Detected.png', img_rgb)"
      ],
      "metadata": {
        "id": "etlP8oTdRep6"
      },
      "execution_count": 19,
      "outputs": []
    }
  ]
}
