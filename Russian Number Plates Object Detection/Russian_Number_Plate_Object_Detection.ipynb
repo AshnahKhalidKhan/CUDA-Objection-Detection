{
  "nbformat": 4,
  "nbformat_minor": 0,
  "metadata": {
    "colab": {
      "provenance": [],
      "gpuType": "T4"
    },
    "kernelspec": {
      "name": "python3",
      "display_name": "Python 3"
    },
    "language_info": {
      "name": "python"
    }
  },
  "cells": [
    {
      "cell_type": "code",
      "execution_count": 39,
      "metadata": {
        "id": "Zt7f8t0cPVvA"
      },
      "outputs": [],
      "source": [
        "# If you're running this on Google Colab like I am, do the following first:\n",
        "# Click Runtime > Change runtime type > Hardware Accelerator > GPU.\n",
        "# Then you MUST execute the following line of code or else the program won't work.\n",
        "\n",
        "# !pip install pycuda"
      ]
    },
    {
      "cell_type": "code",
      "source": [
        "# We're importing these libraries for the following roles:\n",
        "# cv2 will help us use the Haar Cascade Classifiers\n",
        "# imageio will be used to save the image back to the device\n",
        "\n",
        "import cv2\n",
        "import imageio"
      ],
      "metadata": {
        "id": "IeZSwP5YPcjA"
      },
      "execution_count": 40,
      "outputs": []
    },
    {
      "cell_type": "code",
      "source": [
        "# Loading the image from our device\n",
        "# Replace the name of the image on which you want to detect your object here in this line\n",
        "# Make sure the file name ends with .jpg or .png or any other image file format!\n",
        "\n",
        "img = cv2.imread(\"/content/This_Is_Where_You_Put_Your_Image_Name.jpg\")"
      ],
      "metadata": {
        "id": "K8LcIJXwPjp8"
      },
      "execution_count": 41,
      "outputs": []
    },
    {
      "cell_type": "code",
      "source": [
        "# Converting the image into RGB format\n",
        "# NOTE: I'm still not quite sure why this is necessary, only that when I don't do it, the final image has weird colors\n",
        "\n",
        "img_rgb = cv2.cvtColor(img, cv2.COLOR_BGR2RGB)"
      ],
      "metadata": {
        "id": "huqWkEf4PmRg"
      },
      "execution_count": 42,
      "outputs": []
    },
    {
      "cell_type": "code",
      "source": [
        "# Converting the image into GRAYSCALE format\n",
        "# NOTE: I'm still not quite sure why this is necessary either, but I think it makes detection easier\n",
        "\n",
        "img_gray = cv2.cvtColor(img, cv2.COLOR_BGR2GRAY)"
      ],
      "metadata": {
        "id": "Z-ijW4fFThbB"
      },
      "execution_count": 43,
      "outputs": []
    },
    {
      "cell_type": "code",
      "source": [
        "# Loading RGB image for processing via CUDA\n",
        "\n",
        "# img_gpu = gpuarray.to_gpu(img_rgb.astype(np.float32))"
      ],
      "metadata": {
        "id": "_0rE-oAMRNsU"
      },
      "execution_count": 44,
      "outputs": []
    },
    {
      "cell_type": "code",
      "source": [
        "# Loading the classifier used to detect the object\n",
        "# Replace the name of the XML file for whatever object you're detecting in this line\n",
        "\n",
        "russian_number_plate_classifier = cv2.CascadeClassifier('/content/haarcascade_russian_plate_number.xml')"
      ],
      "metadata": {
        "id": "iVb6siS-RS1J"
      },
      "execution_count": 45,
      "outputs": []
    },
    {
      "cell_type": "code",
      "source": [
        "# Applying classifier on your GRAYSCALE image\n",
        "\n",
        "found = russian_number_plate_classifier.detectMultiScale(img_gray, scaleFactor = 1.1, minNeighbors=3)"
      ],
      "metadata": {
        "id": "nToMP4BoRabJ"
      },
      "execution_count": 46,
      "outputs": []
    },
    {
      "cell_type": "code",
      "source": [
        "# Drawing a rectangle on the detected objects on RGB image\n",
        "\n",
        "for (x, y, width, height) in found:\n",
        "        cv2.rectangle(img_rgb, (x, y), (x + width, y + height), (0, 255, 0), 5)"
      ],
      "metadata": {
        "id": "g0jvLrNeRX0q"
      },
      "execution_count": 47,
      "outputs": []
    },
    {
      "cell_type": "code",
      "source": [
        "# Saving the output image with annotated detected objects\n",
        "\n",
        "imageio.imwrite('Output_Image_With_Russian_Number_Plate_Detected.png', img_rgb)"
      ],
      "metadata": {
        "id": "etlP8oTdRep6"
      },
      "execution_count": 48,
      "outputs": []
    }
  ]
}
